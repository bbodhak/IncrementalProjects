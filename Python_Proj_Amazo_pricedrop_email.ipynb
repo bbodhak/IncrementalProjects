{
  "nbformat": 4,
  "nbformat_minor": 0,
  "metadata": {
    "colab": {
      "name": "Python_Proj_Amazo_pricedrop.ipynb",
      "provenance": [],
      "collapsed_sections": [],
      "authorship_tag": "ABX9TyPCKjzbRpqu5yFxxYhqa1+4",
      "include_colab_link": true
    },
    "kernelspec": {
      "name": "python3",
      "display_name": "Python 3"
    }
  },
  "cells": [
    {
      "cell_type": "markdown",
      "metadata": {
        "id": "view-in-github",
        "colab_type": "text"
      },
      "source": [
        "<a href=\"https://colab.research.google.com/github/bbodhak/IncrementalProjects/blob/master/Python_Proj_Amazo_pricedrop_email.ipynb\" target=\"_parent\"><img src=\"https://colab.research.google.com/assets/colab-badge.svg\" alt=\"Open In Colab\"/></a>"
      ]
    },
    {
      "cell_type": "code",
      "metadata": {
        "id": "kn5JP8On1X6p",
        "colab_type": "code",
        "colab": {
          "base_uri": "https://localhost:8080/",
          "height": 299
        },
        "outputId": "5a399473-8bf5-4fb1-b30f-70af642ac387"
      },
      "source": [
        "#accessing url's\n",
        "import requests\n",
        "import smtplib\n",
        "import time\n",
        "\n",
        "from bs4 import BeautifulSoup\n",
        "\n",
        "url = \"https://www.amazon.in/FX505DY-BQ002T-15-6-inch-5-3550H-Windows-Graphics/dp/B07MSK34LL/ref=sr_1_32?crid=25K866TX6FNPE&dchild=1&keywords=tuf+gaming+laptop&qid=1596738000&sprefix=tuf%2Caps%2C304&sr=8-32\"\n",
        "\n",
        "headers = {\"User-Agent\": 'Mozilla/5.0 (Windows NT 10.0; Win64; x64) AppleWebKit/537.36 (KHTML, like Gecko) Chrome/84.0.4147.105 Safari/537.36'}\n",
        "\n",
        "def price_check() :\n",
        "  page = requests.get(url, headers=headers)\n",
        "\n",
        "  soup = BeautifulSoup(page.content, 'html.parser')\n",
        "\n",
        "  #print(soup.prettify())\n",
        "\n",
        "  # scrapping product title\n",
        "  title = soup.find(id=\"productTitle\").get_text()\n",
        "\n",
        "  #id=price getting price\n",
        "\n",
        "  price = soup.find(id=\"priceblock_ourprice\").get_text()[2:8]\n",
        "  price = price.replace(',','')\n",
        "  conv_price = float(price)\n",
        "  #print(conv_price)\n",
        "  if (conv_price < 51000) :\n",
        "    send_mail()\n",
        "#Removing empty spaces in title.\n",
        "\n",
        "  print(conv_price)\n",
        "  print(title.strip())\n",
        "\n",
        "  #if (conv_price < 61000) :\n",
        "    #send_mail()\n",
        "\n",
        "#Function for send email\n",
        "\n",
        "def send_mail() :\n",
        "  s = smtplib.SMTP('smtp.gmail.com', 587)\n",
        "  s.ehlo()\n",
        "  s.starttls()\n",
        "  s.ehlo()\n",
        "  s.login(\"cinderellaman.ias@gmail.com\", \"tzcimhcgrxfybiop\")\n",
        "  subject = \"Price Drop \"\n",
        "  body = \"Click Here https://www.amazon.in/FX505DY-BQ002T-15-6-inch-5-3550H-Windows-Graphics/dp/B07MSK34LL/ref=sr_1_32?crid=25K866TX6FNPE&dchild=1&keywords=tuf+gaming+laptop&qid=1596738000&sprefix=tuf%2Caps%2C304&sr=8-32\"\n",
        "\n",
        "  msg = f\"Subject: {subject}\\n\\n{body}\"\n",
        "  s.sendmail(\"cinderellaman.ias@gmail.com\",\"cinderellaman.ias@gmail.com\", msg)\n",
        "\n",
        "  print(\"Email Sent\")\n",
        "\n",
        "  s.quit()\n",
        "  #3600\n",
        "\n",
        "while(True) :\n",
        "  price_check()\n",
        "  time.sleep(120)\n",
        "#price_check()\n",
        "\n"
      ],
      "execution_count": 29,
      "outputs": [
        {
          "output_type": "stream",
          "text": [
            "59083.0\n",
            "ASUS TUF Gaming FX505DY-BQ002T 15.6-inch FHD Laptop (AMD Ryzen 5-3550H/8GB/1TB HDD/Windows 10/Radeon RX 560X 4GB Graphics/2.20 Kg), Black\n",
            "59083.0\n",
            "ASUS TUF Gaming FX505DY-BQ002T 15.6-inch FHD Laptop (AMD Ryzen 5-3550H/8GB/1TB HDD/Windows 10/Radeon RX 560X 4GB Graphics/2.20 Kg), Black\n"
          ],
          "name": "stdout"
        },
        {
          "output_type": "error",
          "ename": "KeyboardInterrupt",
          "evalue": "ignored",
          "traceback": [
            "\u001b[0;31m---------------------------------------------------------------------------\u001b[0m",
            "\u001b[0;31mKeyboardInterrupt\u001b[0m                         Traceback (most recent call last)",
            "\u001b[0;32m<ipython-input-29-ec4f7a532202>\u001b[0m in \u001b[0;36m<module>\u001b[0;34m()\u001b[0m\n\u001b[1;32m     57\u001b[0m \u001b[0;32mwhile\u001b[0m\u001b[0;34m(\u001b[0m\u001b[0;32mTrue\u001b[0m\u001b[0;34m)\u001b[0m \u001b[0;34m:\u001b[0m\u001b[0;34m\u001b[0m\u001b[0;34m\u001b[0m\u001b[0m\n\u001b[1;32m     58\u001b[0m   \u001b[0mprice_check\u001b[0m\u001b[0;34m(\u001b[0m\u001b[0;34m)\u001b[0m\u001b[0;34m\u001b[0m\u001b[0;34m\u001b[0m\u001b[0m\n\u001b[0;32m---> 59\u001b[0;31m   \u001b[0mtime\u001b[0m\u001b[0;34m.\u001b[0m\u001b[0msleep\u001b[0m\u001b[0;34m(\u001b[0m\u001b[0;36m120\u001b[0m\u001b[0;34m)\u001b[0m\u001b[0;34m\u001b[0m\u001b[0;34m\u001b[0m\u001b[0m\n\u001b[0m\u001b[1;32m     60\u001b[0m \u001b[0;31m#price_check()\u001b[0m\u001b[0;34m\u001b[0m\u001b[0;34m\u001b[0m\u001b[0;34m\u001b[0m\u001b[0m\n\u001b[1;32m     61\u001b[0m \u001b[0;34m\u001b[0m\u001b[0m\n",
            "\u001b[0;31mKeyboardInterrupt\u001b[0m: "
          ]
        }
      ]
    },
    {
      "cell_type": "code",
      "metadata": {
        "id": "EdtWEcfJ4amL",
        "colab_type": "code",
        "colab": {}
      },
      "source": [
        ""
      ],
      "execution_count": null,
      "outputs": []
    }
  ]
}